{
  "nbformat": 4,
  "nbformat_minor": 0,
  "metadata": {
    "colab": {
      "provenance": []
    },
    "kernelspec": {
      "name": "python3",
      "display_name": "Python 3"
    },
    "language_info": {
      "name": "python"
    }
  },
  "cells": [
    {
      "cell_type": "code",
      "source": [
        "#imports and packages\n",
        "import pandas as pd\n",
        "import numpy as np\n",
        "from pydataset import data\n",
        "from sklearn.model_selection import train_test_split\n",
        "from sklearn.ensemble import RandomForestClassifier\n",
        "from sklearn.metrics import mean_squared_error"
      ],
      "metadata": {
        "id": "b5IBUM46PVRP"
      },
      "execution_count": null,
      "outputs": []
    },
    {
      "cell_type": "markdown",
      "source": [
        "**Reading in Data from Excel file**"
      ],
      "metadata": {
        "id": "ZAbPFigUUVGc"
      }
    },
    {
      "cell_type": "code",
      "source": [
        "#Method 1\n",
        "pd.read_csv(\"CarbonEmissions.csv\")"
      ],
      "metadata": {
        "id": "1QTdOwK7TN2M"
      },
      "execution_count": null,
      "outputs": []
    },
    {
      "cell_type": "code",
      "source": [
        "#checking the file routing\n",
        "pwd"
      ],
      "metadata": {
        "id": "G5d7j1N-TT9O"
      },
      "execution_count": null,
      "outputs": []
    },
    {
      "cell_type": "code",
      "source": [
        "pd.read_csv(\"C:\\\\Users\\\\RahulKumar\\\\Downloads\\\\TerraHacks\\\\CarbonEmissions.csv\")"
      ],
      "metadata": {
        "id": "wPpL6F16TVgl"
      },
      "execution_count": null,
      "outputs": []
    },
    {
      "cell_type": "code",
      "source": [
        "#Method 2\n",
        "CarbonEmissions=pd.read_csv(\"C:\\\\Users\\\\RahulKumar\\\\Downloads\\\\TerraHacks\\\\CarbonEmissions.csv\")"
      ],
      "metadata": {
        "id": "wQxvi7_ZTxp4"
      },
      "execution_count": null,
      "outputs": []
    },
    {
      "cell_type": "code",
      "source": [
        "CarbonEmissions.head()"
      ],
      "metadata": {
        "id": "3v3fELIVT62c"
      },
      "execution_count": null,
      "outputs": []
    },
    {
      "cell_type": "code",
      "source": [
        "#Method 3\n",
        "CarbonEmissions_excel = pd.read_excel(CarbonEmissions.csv)"
      ],
      "metadata": {
        "id": "JEVp1owfUEya"
      },
      "execution_count": null,
      "outputs": []
    },
    {
      "cell_type": "code",
      "source": [
        "CarbonEmissions.head()"
      ],
      "metadata": {
        "id": "AIGMfM__UMpB"
      },
      "execution_count": null,
      "outputs": []
    },
    {
      "cell_type": "markdown",
      "source": [
        "***Data Prep***: In this step, I'm just trying to remove the NA variables in the data, thus cleaning it and making it easiar to work with."
      ],
      "metadata": {
        "id": "oOJSRuYsP40G"
      }
    },
    {
      "cell_type": "code",
      "source": [
        "df=data(\"carbonEmissions\")\n",
        "df"
      ],
      "metadata": {
        "id": "2hV5rWMYP7Dh"
      },
      "execution_count": null,
      "outputs": []
    },
    {
      "cell_type": "code",
      "source": [
        "df=df.dropna()"
      ],
      "metadata": {
        "id": "emvWINwhQJDa"
      },
      "execution_count": null,
      "outputs": []
    },
    {
      "cell_type": "code",
      "source": [
        "df"
      ],
      "metadata": {
        "id": "F0h5LWzcQLX0"
      },
      "execution_count": null,
      "outputs": []
    },
    {
      "cell_type": "code",
      "source": [
        "#The var we are determining the importance of are X and dependant var is y\n",
        "X = df[['length', 'width', 'height', 'squareFeet', 'buildingType']]\n",
        "y = df['carbonEmissions']"
      ],
      "metadata": {
        "id": "oAQ0i4o3QQ8Q"
      },
      "execution_count": null,
      "outputs": []
    },
    {
      "cell_type": "markdown",
      "source": [
        "**Model and Testing**"
      ],
      "metadata": {
        "id": "FogiSu8IRCpT"
      }
    },
    {
      "cell_type": "code",
      "source": [
        "#I am splitting the train and test sets using a 30/70 split and using 100 trees\n",
        "x_train, x_test, y_train, y_test = train_test_split(X, y, test_size=0.25, random_state=0)\n",
        "h=RandomForestRegressor(n_estimators=100, random_state=1)"
      ],
      "metadata": {
        "id": "rXCysO6hRGnf"
      },
      "execution_count": null,
      "outputs": []
    },
    {
      "cell_type": "code",
      "source": [
        "h.fit(x_train, y_train)\n",
        "y_pred=h.predict(x_test)\n",
        "mean_squared_error(y_test, y_pred)"
      ],
      "metadata": {
        "id": "EyJ6hYWeRioN"
      },
      "execution_count": null,
      "outputs": []
    },
    {
      "cell_type": "markdown",
      "source": [
        "**Determining Variable Importance**: Althought the MSE of the model is important to compare models. We need the variable's importance to calculate the Carbon Rating in Enfra."
      ],
      "metadata": {
        "id": "iFQpKl09SCG9"
      }
    },
    {
      "cell_type": "code",
      "source": [
        "#Displaying as a horizontal bar graph, which I will read the data from\n",
        "model_ranks=pd.Series(h.feature_importances_,index=x_train.columns,name=\"Importance\").sort_values(ascending=True,inplace=False)\n",
        "ax=model_ranks.plot(kind='barh')"
      ],
      "metadata": {
        "id": "SX-qmNueSFUu"
      },
      "execution_count": null,
      "outputs": []
    },
    {
      "cell_type": "markdown",
      "source": [
        "**Conclusion:** As seen in the model, the best way to predict is the carbon emissions/footprint is by weighing the squareFeet and buildingType heavier. I will now roughly use these weights to create a CarbonEmissions function in Typescript."
      ],
      "metadata": {
        "id": "BRwqPO1KUuKm"
      }
    }
  ]
}